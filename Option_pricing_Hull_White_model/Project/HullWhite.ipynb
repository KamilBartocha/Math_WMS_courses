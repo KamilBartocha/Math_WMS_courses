{
  "nbformat": 4,
  "nbformat_minor": 0,
  "metadata": {
    "colab": {
      "name": "HullWhite.ipynb",
      "provenance": []
    },
    "kernelspec": {
      "name": "python3",
      "display_name": "Python 3"
    },
    "language_info": {
      "name": "python"
    }
  },
  "cells": [
    {
      "cell_type": "markdown",
      "metadata": {
        "id": "bDDBYbiaO3xA"
      },
      "source": [
        "#**Project Title:** Option Pricing base on Tesla stock price.\n",
        "\n",
        "####**Class:** Option pricing in Hull-White model WMS 2021. \n",
        "\n",
        "**Authors:** *Marcin Baranek, Kamil Bartocha* \n",
        "\n",
        "**Data description:** \n",
        "Within the dataset  we can find Tesla Stock Price collected from the last couple years.\n",
        "Columns contains below values: \n",
        "\n",
        "\n",
        "1.   The date - \"Date\"\n",
        "2.   The opening price of the stock - \"Open\"\n",
        "3.   The high price of the day - \"High\"\n",
        "4.   The low price of the day - \"Low\"\n",
        "5.   The closed price of that day - \"Close\"\n",
        "6.   The amount of stocks treded during that day - \"Volume\"\n",
        "7.   The stock's closing price that has been amended to include any distributions/corporate actions that occurs before next days open - \"Adj[usted] Close\"\n",
        "\n",
        "####**Goal** Find a model that best describes the data. For each model, we will estimate the parameters and We will conduct a statistical test for choosing the best one."
      ]
    },
    {
      "cell_type": "code",
      "metadata": {
        "id": "K7czd1m1bXOY"
      },
      "source": [
        "import numpy as np\n",
        "import math\n",
        "from scipy.stats import chisquare, norm"
      ],
      "execution_count": null,
      "outputs": []
    },
    {
      "cell_type": "markdown",
      "metadata": {
        "id": "TIh6Jbv-bblM"
      },
      "source": [
        "# Load data, select only close, min and high"
      ]
    },
    {
      "cell_type": "code",
      "metadata": {
        "id": "cHOuZynBe2YY"
      },
      "source": [
        "def describe_data(train_data, labels_data):\n",
        "    print(train_data.describe())\n",
        "    print(labels_data.describe())\n",
        "\n",
        "def describe_shape(CA_number, train_data, labels_data):\n",
        "    print(f\"shape for train data in set number {CA_number}: \", train[CA_number].shape)\n",
        "    print(f\"shape for labels in set number  {CA_number}: \",   labels[CA_number].shape)\n",
        "    print(80*\"-\")\n",
        "\n",
        "train = []\n",
        "labels = []\n",
        "\n",
        "for CA_number in range(1,18):\n",
        "    train_path = os.getcwd() + f'\\\\dataset\\\\x_train_CA{CA_number}.csv'\n",
        "    labels_path = os.getcwd() + f'\\\\dataset\\\\y_train_CA{CA_number}.csv'\n",
        "    \n",
        "    train_data = pd.read_csv(train_path, header=None)\n",
        "    labels_data = pd.read_csv(labels_path, header=None)\n",
        "    \n",
        "    describe_data(train_data, labels_data)\n",
        "    train.append(np.array(train_data))\n",
        "    labels.append(np.array(labels_data))\n",
        "    describe_shape(CA_number-1, train_data, labels_data)"
      ],
      "execution_count": null,
      "outputs": []
    },
    {
      "cell_type": "markdown",
      "metadata": {
        "id": "-luufVBTfAPB"
      },
      "source": [
        "# Statistical Test\n"
      ]
    },
    {
      "cell_type": "code",
      "metadata": {
        "id": "PoH4Omw0fau7"
      },
      "source": [
        "class EulerScheme:\n",
        "    \"\"\"Euler scheme class for solving stochastic differential equations\n",
        "    # ToDO write the documentation\n",
        "    \"\"\"\n",
        "    def __init__(self, a_func=None, b_func=None, init_val=None):\n",
        "        \"\"\"Constructor for stochastic EulerScheme.\n",
        "         It is used to solve character equations:\n",
        "         dX_t = a(t, X_t)dt + b(t, X_t)dW_t\n",
        "        =========================================================\n",
        "        :param a_func: a function of two arguments, time and a spatial variable\n",
        "        :param b_func: a function of two arguments, time and a spatial variable\n",
        "        :param init_val: initial condition of the equation\n",
        "        \"\"\"\n",
        "        self.a_func = a_func if a_func is not None else lambda t, x: 0\n",
        "        self.b_func = b_func if b_func is not None else lambda t, x: 1\n",
        "        self.init_val = 0.0 if init_val is None else init_val\n",
        "\n",
        "    def step(self, point=0.0, time=1.0, dt=1.e-4):\n",
        "        \"\"\"Internal function that computes the step of Euler's schema.\n",
        "        :param point: numpy.array or float, initial condition\n",
        "        :param time: float, beginning of time segment\n",
        "        :param dt: float, time \"gain\"\n",
        "        :return: numpy.array or float\n",
        "        \"\"\"\n",
        "        # ToDo fix this below\n",
        "        try:\n",
        "            size = point.shape[0]\n",
        "        except Exception:\n",
        "            size = 1\n",
        "        return point + self.a_func(time, point) * dt \\\n",
        "            + self.b_func(time, point) * np.sqrt(dt) \\\n",
        "            * np.random.normal(size=size)\n",
        "\n",
        "    def generate(self, point=None, t_0=0.0, dt=1.e-4, end=None, grid=False):\n",
        "        \"\"\"Method returning the generator of successive points from the\n",
        "         trajectories of the X_t process.\n",
        "        :param point: float, beginning of time\n",
        "        :param t_0: float, beginning of time\n",
        "        :param dt: time \"gain\"\n",
        "        :param end: ToDo write\n",
        "        :param grid: ToDo write\n",
        "        :return: generator generating successive elements from\n",
        "            the trajectories of the process\n",
        "        \"\"\"\n",
        "        point, time = self.init_val if point is None else point, t_0\n",
        "        if end is not None:\n",
        "            while time <= end:\n",
        "                yield (point, time) if grid else point\n",
        "                point = self.step(point, time, dt)\n",
        "                time += dt\n",
        "        else:\n",
        "            while True:\n",
        "                yield (point, time) if grid else point\n",
        "                point = self.step(point, time, dt)\n",
        "                time += dt"
      ],
      "execution_count": null,
      "outputs": []
    },
    {
      "cell_type": "code",
      "metadata": {
        "id": "GjF6F3jJfoyG"
      },
      "source": [
        "class ItoProcess(EulerScheme):\n",
        "    \"\"\"\n",
        "    # ToDO write the documentation\n",
        "    \"\"\"\n",
        "    def __init__(self, a_func=None, b_func=None, init_val=None):\n",
        "        \"\"\"\n",
        "        # ToDO write the documentation\n",
        "        :param a_func:\n",
        "        :param b_func:\n",
        "        :param init_val:\n",
        "        \"\"\"\n",
        "        super().__init__(a_func, b_func, init_val)\n",
        "\n",
        "    def __eq__(self, other):\n",
        "        \"\"\"\n",
        "        # ToDO write the documentation\n",
        "        :param other:\n",
        "        :return:\n",
        "        \"\"\"\n",
        "        a_check = self.a_func.__code__.co_code == other.a_func.__code__.co_code\n",
        "        b_check = self.b_func.__code__.co_code == other.b_func.__code__.co_code\n",
        "        init_check = self.init_val == other.init_val\n",
        "        return a_check and b_check and init_check\n",
        "\n",
        "    def __str__(self):\n",
        "        return f\"Base Ito Process with initial value {self.init_val}\\n\" \\\n",
        "               f\"{self.__repr__()}\"\n",
        "\n",
        "    def __add__(self, other):\n",
        "        \"\"\"\n",
        "        # ToDO write the documentation\n",
        "        :param other:\n",
        "        :return:\n",
        "        \"\"\"\n",
        "        return ItoProcess(lambda t, x: self.a_func(t, x) + other.a_func(t, x),\n",
        "                          lambda t, x: self.b_func(t, x) + other.b_func(t, x),\n",
        "                          self.init_val + other.init_val)\n",
        "\n",
        "    def fit_test(self, data, t_arr=None, df=None):\n",
        "        \"\"\"The method checks how well the process describes the data.\n",
        "        =========================================================\n",
        "        Statistical test:\n",
        "        H_0: the data comes from the distribution described by the process\n",
        "        H_1: The data is not from the distribution described by the process\n",
        "\n",
        "        if p value < significance level then we reject the null hypothesis\n",
        "\n",
        "        References:\n",
        "        [1] Bak, J. (1998), Nonparametric methods in finance, Master’s thesis,\n",
        "         Department of Mathematical Modelling, Technical University of Denmark,\n",
        "         Lyngby. IMM-EKS-1998-34.\n",
        "        =========================================================\n",
        "        :param data: data array\n",
        "        :param t_arr: time array, default is (1.e-4) * [0, 1, 2, ..., len_data]\n",
        "        :param df: int, degrees of freedom, otherwise the number of simulations\n",
        "            default is equal to int((len_data - 6) / 5)\n",
        "        :return: float, p value\n",
        "        \"\"\"\n",
        "        # data preparation\n",
        "        len_data = len(data)\n",
        "        df = int((len_data - 6) / 5) if df is None else df\n",
        "        expected = (len_data - 1) / (df + 1)\n",
        "        t_arr = np.arange(len_data) * 1.e-4 if t_arr is None else t_arr\n",
        "        r_arr = np.ones(shape=(len_data - 1))\n",
        "\n",
        "        # computing simulations\n",
        "        for i in range(len_data - 1):\n",
        "            for _ in range(df):\n",
        "                # ToDO implement schema dependent of K\n",
        "                r_arr[i] += int(\n",
        "                    self.step(data[i], t_arr[i], t_arr[i + 1] - t_arr[i])\n",
        "                    <= data[i + 1])\n",
        "\n",
        "        # preparation for the test\n",
        "        omega_arr = [sum(map(lambda x: 1 if x == i else 0, r_arr))\n",
        "                     for i in range(1, df + 1)]\n",
        "        return chisquare(omega_arr, expected)[1]"
      ],
      "execution_count": null,
      "outputs": []
    },
    {
      "cell_type": "markdown",
      "metadata": {
        "id": "ay1z4YOvf1im"
      },
      "source": [
        "# Estimation of $\\sigma$ and $\\mu$."
      ]
    },
    {
      "cell_type": "code",
      "metadata": {
        "id": "I913k4GMgCWJ"
      },
      "source": [
        "sigma, mu = 0.5, 1\n",
        "pass"
      ],
      "execution_count": null,
      "outputs": []
    },
    {
      "cell_type": "markdown",
      "metadata": {
        "id": "4G3V3sVKmkCK"
      },
      "source": [
        "#Predict"
      ]
    },
    {
      "cell_type": "code",
      "metadata": {
        "id": "QwOk8p3rnfzN"
      },
      "source": [
        "parameters = {\n",
        "    \"T\": 1.0,\n",
        "    \"dt\": 1.e-1,\n",
        "    \"S_0\": 1.0,\n",
        "    \"drift\": lambda t, s: mu*s,\n",
        "    \"vol\": lambda t, s: sigma*s,\n",
        "    \"t_0\": 0.0,\n",
        "    \"n_traj\": 100,\n",
        "    \"alpha\": 0.05\n",
        "}"
      ],
      "execution_count": null,
      "outputs": []
    },
    {
      "cell_type": "code",
      "metadata": {
        "id": "YZ8HJcOOmuoY"
      },
      "source": [
        "def predict(T, dt, n_traj, drift, vol, t_0, S_0, alpha):\n",
        "    predictor = ItoProcess(drift, vol)\n",
        "    result = [np.array([element for element in\\\n",
        "                        predictor.generate(S_0, t_0, dt, T)])\\\n",
        "               for _ in range(n_traj)]\n",
        "    mean = sum(result) / n_traj\n",
        "    # compute variance\n",
        "    result = [(arr - mean * np.ones(arr.shape))**2 for arr in result]\n",
        "    var = [sum([result[j][i] for j in range(n_traj)]) / (n_traj - 1)\\\n",
        "           for i in range(result[0].shape[0])]\n",
        "    margin = [norm.interval(1-alpha)[1] * v / math.sqrt(n_traj) for v in var]\n",
        "    return mean, margin"
      ],
      "execution_count": null,
      "outputs": []
    },
    {
      "cell_type": "code",
      "metadata": {
        "colab": {
          "base_uri": "https://localhost:8080/"
        },
        "id": "xEy7ETNorIN-",
        "outputId": "9f167d5f-b98b-4f62-a321-14e71dbc2877"
      },
      "source": [
        "predict(**parameters)"
      ],
      "execution_count": null,
      "outputs": [
        {
          "output_type": "stream",
          "text": [
            "/usr/local/lib/python3.7/dist-packages/ipykernel_launcher.py:3: VisibleDeprecationWarning: Creating an ndarray from ragged nested sequences (which is a list-or-tuple of lists-or-tuples-or ndarrays with different lengths or shapes) is deprecated. If you meant to do this, you must specify 'dtype=object' when creating the ndarray\n",
            "  This is separate from the ipykernel package so we can avoid doing imports until\n"
          ],
          "name": "stderr"
        },
        {
          "output_type": "execute_result",
          "data": {
            "text/plain": [
              "(array([1.0, array([1.11093764]), array([1.22299598]), array([1.3300864]),\n",
              "        array([1.42122095]), array([1.5636095]), array([1.7154592]),\n",
              "        array([1.85902572]), array([1.98897192]), array([2.20602753]),\n",
              "        array([2.40071921])], dtype=object),\n",
              " [0.0,\n",
              "  array([0.00590651]),\n",
              "  array([0.01380959]),\n",
              "  array([0.02446509]),\n",
              "  array([0.03196496]),\n",
              "  array([0.05065659]),\n",
              "  array([0.06359268]),\n",
              "  array([0.07696289]),\n",
              "  array([0.08424821]),\n",
              "  array([0.12149776]),\n",
              "  array([0.14411794])])"
            ]
          },
          "metadata": {
            "tags": []
          },
          "execution_count": 74
        }
      ]
    }
  ]
}